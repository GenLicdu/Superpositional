{
 "cells": [
  {
   "cell_type": "code",
   "execution_count": 3,
   "metadata": {},
   "outputs": [
    {
     "ename": "ModuleNotFoundError",
     "evalue": "No module named 'pyod'",
     "output_type": "error",
     "traceback": [
      "\u001b[0;31m---------------------------------------------------------------------------\u001b[0m",
      "\u001b[0;31mModuleNotFoundError\u001b[0m                       Traceback (most recent call last)",
      "\u001b[0;32m<ipython-input-3-85023101739d>\u001b[0m in \u001b[0;36m<module>\u001b[0;34m\u001b[0m\n\u001b[1;32m      4\u001b[0m \u001b[0;32mfrom\u001b[0m \u001b[0msklearn\u001b[0m\u001b[0;34m.\u001b[0m\u001b[0mensemble\u001b[0m \u001b[0;32mimport\u001b[0m \u001b[0mIsolationForest\u001b[0m\u001b[0;34m\u001b[0m\u001b[0;34m\u001b[0m\u001b[0m\n\u001b[1;32m      5\u001b[0m \u001b[0;32mfrom\u001b[0m \u001b[0msklearn\u001b[0m\u001b[0;34m.\u001b[0m\u001b[0mmetrics\u001b[0m \u001b[0;32mimport\u001b[0m \u001b[0maccuracy_score\u001b[0m\u001b[0;34m,\u001b[0m \u001b[0mf1_score\u001b[0m\u001b[0;34m,\u001b[0m \u001b[0mprecision_score\u001b[0m\u001b[0;34m,\u001b[0m \u001b[0mrecall_score\u001b[0m\u001b[0;34m\u001b[0m\u001b[0;34m\u001b[0m\u001b[0m\n\u001b[0;32m----> 6\u001b[0;31m \u001b[0;32mfrom\u001b[0m \u001b[0mpyod\u001b[0m\u001b[0;34m.\u001b[0m\u001b[0mmodels\u001b[0m\u001b[0;34m.\u001b[0m\u001b[0mabod\u001b[0m \u001b[0;32mimport\u001b[0m \u001b[0mABOD\u001b[0m\u001b[0;34m\u001b[0m\u001b[0;34m\u001b[0m\u001b[0m\n\u001b[0m\u001b[1;32m      7\u001b[0m \u001b[0;32mfrom\u001b[0m \u001b[0mpyod\u001b[0m\u001b[0;34m.\u001b[0m\u001b[0mmodels\u001b[0m\u001b[0;34m.\u001b[0m\u001b[0mecod\u001b[0m \u001b[0;32mimport\u001b[0m \u001b[0mECOD\u001b[0m\u001b[0;34m\u001b[0m\u001b[0;34m\u001b[0m\u001b[0m\n\u001b[1;32m      8\u001b[0m \u001b[0;32mimport\u001b[0m \u001b[0mmatplotlib\u001b[0m\u001b[0;34m.\u001b[0m\u001b[0mpyplot\u001b[0m \u001b[0;32mas\u001b[0m \u001b[0mplt\u001b[0m\u001b[0;34m\u001b[0m\u001b[0;34m\u001b[0m\u001b[0m\n",
      "\u001b[0;31mModuleNotFoundError\u001b[0m: No module named 'pyod'"
     ]
    }
   ],
   "source": [
    "import numpy as np\n",
    "import pandas as pd\n",
    "from sklearn.neighbors import LocalOutlierFactor\n",
    "from sklearn.ensemble import IsolationForest\n",
    "from sklearn.metrics import accuracy_score, f1_score, precision_score, recall_score\n",
    "from pyod.models.abod import ABOD\n",
    "from pyod.models.ecod import ECOD\n",
    "import matplotlib.pyplot as plt"
   ]
  },
  {
   "cell_type": "code",
   "execution_count": 43,
   "metadata": {},
   "outputs": [
    {
     "data": {
      "text/plain": [
       "(200, 1, 16)"
      ]
     },
     "execution_count": 43,
     "metadata": {},
     "output_type": "execute_result"
    }
   ],
   "source": [
    "file_path = 'embeddings.npy'\n",
    "embeddings = np.load(file_path)\n",
    "embeddings.shape"
   ]
  },
  {
   "cell_type": "code",
   "execution_count": 44,
   "metadata": {},
   "outputs": [],
   "source": [
    "embeddings = embeddings.reshape(200,16)"
   ]
  },
  {
   "cell_type": "code",
   "execution_count": 45,
   "metadata": {},
   "outputs": [
    {
     "data": {
      "text/plain": [
       "0      0\n",
       "1      0\n",
       "2      0\n",
       "3      0\n",
       "4      0\n",
       "      ..\n",
       "195    0\n",
       "196    0\n",
       "197    0\n",
       "198    0\n",
       "199    0\n",
       "Name: label, Length: 200, dtype: int64"
      ]
     },
     "execution_count": 45,
     "metadata": {},
     "output_type": "execute_result"
    }
   ],
   "source": [
    "label = pd.read_csv('Dynamicgraph.csv')['label']\n",
    "label"
   ]
  },
  {
   "cell_type": "code",
   "execution_count": 51,
   "metadata": {},
   "outputs": [
    {
     "data": {
      "text/plain": [
       "array([0, 0, 0, 0, 0, 1, 0, 0, 0, 0, 1, 0, 0, 0, 1, 0, 1, 0, 1, 0, 0, 0,\n",
       "       0, 0, 1, 0, 1, 0, 0, 0, 0, 1, 0, 0, 0, 0, 0, 1, 1, 0, 1, 0, 0, 1,\n",
       "       0, 0, 0, 0, 0, 0, 0, 0, 1, 0, 0, 0, 1, 0, 0, 1, 1, 0, 0, 0, 0, 1,\n",
       "       0, 0, 1, 0, 0, 0, 1, 0, 0, 1, 1, 0, 0, 0, 0, 1, 1, 0, 1, 0, 1, 0,\n",
       "       0, 1, 0, 0, 1, 1, 0, 0, 0, 0, 0, 0, 1, 0, 1, 1, 0, 0, 0, 0, 0, 1,\n",
       "       1, 1, 0, 0, 0, 1, 0, 0, 0, 1, 0, 1, 0, 1, 1, 0, 0, 0, 0, 1, 0, 0,\n",
       "       1, 0, 0, 0, 0, 0, 1, 1, 0, 1, 0, 0, 0, 0, 0, 0, 0, 1, 1, 0, 0, 0,\n",
       "       1, 0, 0, 1, 0, 0, 0, 0, 0, 0, 0, 0, 1, 0, 1, 1, 0, 0, 1, 0, 0, 1,\n",
       "       0, 0, 0, 0, 1, 1, 1, 0, 0, 0, 1, 0, 1, 0, 0, 0, 0, 1, 0, 0, 0, 1,\n",
       "       0, 0])"
      ]
     },
     "execution_count": 51,
     "metadata": {},
     "output_type": "execute_result"
    }
   ],
   "source": [
    "y_pred_lof"
   ]
  },
  {
   "cell_type": "code",
   "execution_count": 54,
   "metadata": {},
   "outputs": [
    {
     "data": {
      "text/plain": [
       "array([  5,  10,  14,  16,  18,  24,  26,  31,  37,  38,  40,  43,  52,\n",
       "        56,  59,  60,  65,  68,  72,  75,  76,  81,  82,  84,  86,  89,\n",
       "        92,  93, 100, 102, 103, 109, 110, 111, 115, 119, 121, 123, 124,\n",
       "       129, 132, 138, 139, 141, 149, 150, 154, 157, 166, 168, 169, 172,\n",
       "       175, 180, 181, 182, 186, 188, 193, 197])"
      ]
     },
     "execution_count": 54,
     "metadata": {},
     "output_type": "execute_result"
    }
   ],
   "source": [
    "lables = []\n",
    "for i in range (y_pred_lof.shape[0]):\n",
    "    if y_pred_lof[i] == 1:\n",
    "        lables.append(i)\n",
    "labels = np.array(lables)\n",
    "labels"
   ]
  },
  {
   "cell_type": "code",
   "execution_count": 71,
   "metadata": {},
   "outputs": [],
   "source": [
    "label = []\n",
    "for i in range (y_pred_lof.shape[0]):\n",
    "    if y_pred_lof[i] == y_pred_abod[i] == y_pred_ecod[i] == y_pred_box_plot[i] == y_pred_if[i] == 0:\n",
    "        label.append(0)\n",
    "    elif y_pred_lof[i] == 1 or y_pred_abod[i] == 1 or y_pred_ecod[i] == 1 or y_pred_box_plot[i] == 1 or y_pred_if[i] == 1:\n",
    "        label.append(1)"
   ]
  },
  {
   "cell_type": "code",
   "execution_count": 74,
   "metadata": {},
   "outputs": [
    {
     "name": "stdout",
     "output_type": "stream",
     "text": [
      "LOF:\n",
      "\tAccuracy: 0.7950\n",
      "\tF1 Score: 0.8038\n",
      "\tPrecision: 0.8400\n",
      "\tRecall: 0.7706\n",
      "\n",
      "IF:\n",
      "\tAccuracy: 0.8550\n",
      "\tF1 Score: 0.8612\n",
      "\tPrecision: 0.9000\n",
      "\tRecall: 0.8257\n",
      "\n",
      "Box-Plot:\n",
      "\tAccuracy: 0.5950\n",
      "\tF1 Score: 0.4088\n",
      "\tPrecision: 1.0000\n",
      "\tRecall: 0.2569\n",
      "\n",
      "ABOD:\n",
      "\tAccuracy: 0.7750\n",
      "\tF1 Score: 0.7847\n",
      "\tPrecision: 0.8200\n",
      "\tRecall: 0.7523\n",
      "\n",
      "ECOD:\n",
      "\tAccuracy: 0.7550\n",
      "\tF1 Score: 0.7656\n",
      "\tPrecision: 0.8000\n",
      "\tRecall: 0.7339\n",
      "\n"
     ]
    }
   ],
   "source": [
    "lof = LocalOutlierFactor(n_neighbors=100, contamination=0.5)\n",
    "y_pred_lof = lof.fit_predict(embeddings)\n",
    "y_pred_lof = np.where(y_pred_lof == 1, 0, 1)  # LOF输出1表示正常，-1表示异常，需转换\n",
    "\n",
    "# 方法2：Isolation Forest (IF)\n",
    "iforest = IsolationForest(contamination=0.5, random_state=42)\n",
    "y_pred_if = iforest.fit_predict(embeddings)\n",
    "y_pred_if = np.where(y_pred_if == 1, 0, 1)  # IF输出1表示正常，-1表示异常，需转换\n",
    "\n",
    "# 方法3：Box-Plot (使用四分位间距)\n",
    "def box_plot_outliers(data):\n",
    "    Q1 = np.percentile(data, 25, axis=0)\n",
    "    Q3 = np.percentile(data, 75, axis=0)\n",
    "    IQR = Q3 - Q1\n",
    "    lower_bound = Q1 - 1.5 * IQR\n",
    "    upper_bound = Q3 + 1.5 * IQR\n",
    "    return (data < lower_bound) | (data > upper_bound)\n",
    "\n",
    "outliers = box_plot_outliers(embeddings)\n",
    "y_pred_box_plot = np.any(outliers, axis=1).astype(int)\n",
    "\n",
    "# 方法4：ABOD\n",
    "abod = ABOD(contamination=0.5)\n",
    "abod.fit(embeddings)\n",
    "y_pred_abod = abod.labels_\n",
    "\n",
    "# 方法5：ECOD\n",
    "ecod = ECOD(contamination=0.5)\n",
    "ecod.fit(embeddings)\n",
    "y_pred_ecod = ecod.labels_\n",
    "\n",
    "# 计算评价指标\n",
    "methods = ['LOF', 'IF', 'Box-Plot', 'ABOD', 'ECOD']\n",
    "predictions = [y_pred_lof, y_pred_if, y_pred_box_plot, y_pred_abod, y_pred_ecod]\n",
    "\n",
    "for method, y_pred in zip(methods, predictions):\n",
    "    accuracy = accuracy_score(label, y_pred)\n",
    "    f1 = f1_score(label, y_pred)\n",
    "    precision = precision_score(label, y_pred)\n",
    "    recall = recall_score(label, y_pred)\n",
    "    print(f'{method}:\\n\\tAccuracy: {accuracy:.4f}\\n\\tF1 Score: {f1:.4f}\\n\\tPrecision: {precision:.4f}\\n\\tRecall: {recall:.4f}\\n')\n"
   ]
  },
  {
   "cell_type": "code",
   "execution_count": null,
   "metadata": {},
   "outputs": [],
   "source": []
  },
  {
   "cell_type": "code",
   "execution_count": null,
   "metadata": {},
   "outputs": [],
   "source": []
  },
  {
   "cell_type": "code",
   "execution_count": null,
   "metadata": {},
   "outputs": [],
   "source": []
  }
 ],
 "metadata": {
  "kernelspec": {
   "display_name": "base",
   "language": "python",
   "name": "python3"
  },
  "language_info": {
   "codemirror_mode": {
    "name": "ipython",
    "version": 3
   },
   "file_extension": ".py",
   "mimetype": "text/x-python",
   "name": "python",
   "nbconvert_exporter": "python",
   "pygments_lexer": "ipython3",
   "version": "3.11.3"
  }
 },
 "nbformat": 4,
 "nbformat_minor": 2
}
